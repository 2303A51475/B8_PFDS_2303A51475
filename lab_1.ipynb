{
  "nbformat": 4,
  "nbformat_minor": 0,
  "metadata": {
    "colab": {
      "provenance": [],
      "authorship_tag": "ABX9TyNY6+oJLoftWnj/bectqYpX",
      "include_colab_link": true
    },
    "kernelspec": {
      "name": "python3",
      "display_name": "Python 3"
    },
    "language_info": {
      "name": "python"
    }
  },
  "cells": [
    {
      "cell_type": "markdown",
      "metadata": {
        "id": "view-in-github",
        "colab_type": "text"
      },
      "source": [
        "<a href=\"https://colab.research.google.com/github/2303A51475/B8_PFDS_2303A51475/blob/main/lab_1.ipynb\" target=\"_parent\"><img src=\"https://colab.research.google.com/assets/colab-badge.svg\" alt=\"Open In Colab\"/></a>"
      ]
    },
    {
      "cell_type": "code",
      "execution_count": 1,
      "metadata": {
        "colab": {
          "base_uri": "https://localhost:8080/"
        },
        "id": "JB0bOkRvF4uI",
        "outputId": "246863ed-4038-4d46-b810-98c8501f985f"
      },
      "outputs": [
        {
          "output_type": "stream",
          "name": "stdout",
          "text": [
            "Enter a number (≤ 10): 6\n",
            "\n",
            "Tracing fact(6):\n",
            "\n",
            "Calling fact(6)\n",
            "  Calling fact(5)\n",
            "    Calling fact(4)\n",
            "      Calling fact(3)\n",
            "        Calling fact(2)\n",
            "          Calling fact(1)\n",
            "          Base case: fact(1) = 1\n",
            "        Returning: 2 * fact(1) = 2\n",
            "      Returning: 3 * fact(2) = 6\n",
            "    Returning: 4 * fact(3) = 24\n",
            "  Returning: 5 * fact(4) = 120\n",
            "Returning: 6 * fact(5) = 720\n",
            "\n",
            "Result: fact(6) = 720\n"
          ]
        }
      ],
      "source": [
        "def fact(i, d=0):\n",
        "    space = \"  \" * d\n",
        "    print(f\"{space}Calling fact({i})\")\n",
        "\n",
        "    if i == 0 or i == 1:\n",
        "        print(f\"{space}Base case: fact({i}) = 1\")\n",
        "        return 1\n",
        "    else:\n",
        "        res = i * fact(i - 1, d + 1)\n",
        "        print(f\"{space}Returning: {i} * fact({i - 1}) = {res}\")\n",
        "        return res\n",
        "\n",
        "while True:\n",
        "    try:\n",
        "        i = int(input(\"Enter a number (≤ 10): \"))\n",
        "        if 0 <= i <= 10:\n",
        "            break\n",
        "        else:\n",
        "            print(\"Please enter a number between 0 and 10.\")\n",
        "    except:\n",
        "        print(\"Invalid input. Enter a number.\")\n",
        "\n",
        "print(f\"\\nTracing fact({i}):\\n\")\n",
        "ans = fact(i)\n",
        "print(f\"\\nResult: fact({i}) = {ans}\")"
      ]
    },
    {
      "cell_type": "code",
      "source": [],
      "metadata": {
        "id": "iC3qm8KzGDnH"
      },
      "execution_count": null,
      "outputs": []
    }
  ]
}