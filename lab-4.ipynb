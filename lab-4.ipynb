{
  "nbformat": 4,
  "nbformat_minor": 0,
  "metadata": {
    "colab": {
      "provenance": [],
      "authorship_tag": "ABX9TyOEvK7jHM7yH8n0oVZQ2sLD",
      "include_colab_link": true
    },
    "kernelspec": {
      "name": "python3",
      "display_name": "Python 3"
    },
    "language_info": {
      "name": "python"
    }
  },
  "cells": [
    {
      "cell_type": "markdown",
      "metadata": {
        "id": "view-in-github",
        "colab_type": "text"
      },
      "source": [
        "<a href=\"https://colab.research.google.com/github/2303A51475/B8_PFDS_2303A51475/blob/main/lab-4.ipynb\" target=\"_parent\"><img src=\"https://colab.research.google.com/assets/colab-badge.svg\" alt=\"Open In Colab\"/></a>"
      ]
    },
    {
      "cell_type": "code",
      "execution_count": null,
      "metadata": {
        "id": "h1t_eiBLgQ7V"
      },
      "outputs": [],
      "source": []
    },
    {
      "cell_type": "code",
      "execution_count": null,
      "metadata": {
        "colab": {
          "base_uri": "https://localhost:8080/"
        },
        "id": "3udz_zIiK9j2",
        "outputId": "51f974d0-cf7e-4b1b-fb92-f5e2e057401b"
      },
      "outputs": [
        {
          "output_type": "stream",
          "name": "stdout",
          "text": [
            "✅ student_scores.csv has been created successfully.\n"
          ]
        }
      ],
      "source": [
        "import pandas as pd\n",
        "import numpy as np\n",
        "\n",
        "# Define student data\n",
        "data = {\n",
        "    'Student_ID': list(range(1, 21)),\n",
        "    'Name': [\n",
        "        'Alice', 'Bob', 'Charlie', 'David', 'Eve', 'Frank', 'Grace', 'Hank', 'Ivy', 'Jack',\n",
        "        'Kate', 'Leo', 'Mia', 'Nina', 'Oscar', 'Paul', 'Quinn', 'Rachel', 'Steve', 'Tina'\n",
        "    ],\n",
        "    'Math': [88, 76, np.nan, 90, 65, 82, np.nan, 70, 92, 55,\n",
        "             80, 73, np.nan, 84, 67, np.nan, 77, 89, 60, 93],\n",
        "    'Science': [92, np.nan, 78, 95, 68, np.nan, 85, 75, 89, np.nan,\n",
        "                83, 79, 90, 88, 70, 74, np.nan, 91, 65, np.nan],\n",
        "    'English': [85, 79, 70, 91, np.nan, 88, 92, 70, 94, 60,\n",
        "                np.nan, 78, 86, np.nan, 65, 71, 80, 87, 70, 95]\n",
        "}\n",
        "\n",
        "# Create DataFrame\n",
        "df = pd.DataFrame(data)\n",
        "\n",
        "# Save to CSV\n",
        "df.to_csv('student_scores.csv', index=False)\n",
        "\n",
        "print(\"✅ student_scores.csv has been created successfully.\")"
      ]
    },
    {
      "cell_type": "code",
      "source": [
        "import pandas as pd\n",
        "\n",
        "df = pd.read_csv('student_scores.csv')\n",
        "\n",
        "df[['Math', 'Science', 'English']] = df[['Math', 'Science', 'English']].fillna(df[['Math', 'Science', 'English']].mean())\n",
        "\n",
        "high_achievers = df[(df['Math'] > 75) & (df['Science'] > 75) & (df['English'] > 75)]\n",
        "\n",
        "print(\"All Students with Missing Values Filled:\")\n",
        "print(df)\n",
        "print(\"\\nHigh Achievers (Marks > 75 in all subjects):\")\n",
        "print(high_achievers)\n"
      ],
      "metadata": {
        "colab": {
          "base_uri": "https://localhost:8080/"
        },
        "id": "x38sdeFgLLXU",
        "outputId": "250d534d-92f6-4099-9322-8ab29943e69b"
      },
      "execution_count": null,
      "outputs": [
        {
          "output_type": "stream",
          "name": "stdout",
          "text": [
            "All Students with Missing Values Filled:\n",
            "    Student_ID     Name     Math    Science    English\n",
            "0            1    Alice  88.0000  92.000000  85.000000\n",
            "1            2      Bob  76.0000  81.466667  79.000000\n",
            "2            3  Charlie  77.5625  78.000000  70.000000\n",
            "3            4    David  90.0000  95.000000  91.000000\n",
            "4            5      Eve  65.0000  68.000000  80.058824\n",
            "5            6    Frank  82.0000  81.466667  88.000000\n",
            "6            7    Grace  77.5625  85.000000  92.000000\n",
            "7            8     Hank  70.0000  75.000000  70.000000\n",
            "8            9      Ivy  92.0000  89.000000  94.000000\n",
            "9           10     Jack  55.0000  81.466667  60.000000\n",
            "10          11     Kate  80.0000  83.000000  80.058824\n",
            "11          12      Leo  73.0000  79.000000  78.000000\n",
            "12          13      Mia  77.5625  90.000000  86.000000\n",
            "13          14     Nina  84.0000  88.000000  80.058824\n",
            "14          15    Oscar  67.0000  70.000000  65.000000\n",
            "15          16     Paul  77.5625  74.000000  71.000000\n",
            "16          17    Quinn  77.0000  81.466667  80.000000\n",
            "17          18   Rachel  89.0000  91.000000  87.000000\n",
            "18          19    Steve  60.0000  65.000000  70.000000\n",
            "19          20     Tina  93.0000  81.466667  95.000000\n",
            "\n",
            "High Achievers (Marks > 75 in all subjects):\n",
            "    Student_ID    Name     Math    Science    English\n",
            "0            1   Alice  88.0000  92.000000  85.000000\n",
            "1            2     Bob  76.0000  81.466667  79.000000\n",
            "3            4   David  90.0000  95.000000  91.000000\n",
            "5            6   Frank  82.0000  81.466667  88.000000\n",
            "6            7   Grace  77.5625  85.000000  92.000000\n",
            "8            9     Ivy  92.0000  89.000000  94.000000\n",
            "10          11    Kate  80.0000  83.000000  80.058824\n",
            "12          13     Mia  77.5625  90.000000  86.000000\n",
            "13          14    Nina  84.0000  88.000000  80.058824\n",
            "16          17   Quinn  77.0000  81.466667  80.000000\n",
            "17          18  Rachel  89.0000  91.000000  87.000000\n",
            "19          20    Tina  93.0000  81.466667  95.000000\n"
          ]
        }
      ]
    },
    {
      "cell_type": "code",
      "source": [
        "import pandas as pd\n",
        "\n",
        "df = pd.read_csv('student_scores.csv')\n",
        "\n",
        "df[['Math', 'Science', 'English']] = df[['Math', 'Science', 'English']].fillna(df[['Math', 'Science', 'English']].mean())\n",
        "\n",
        "high_achievers = df[(df['Math'] > 75) & (df['Science'] > 75) & (df['English'] > 75)]\n",
        "\n",
        "print(\"High Achievers (Marks > 75 in all subjects):\")\n",
        "print(high_achievers)\n"
      ],
      "metadata": {
        "colab": {
          "base_uri": "https://localhost:8080/"
        },
        "id": "XAURlPWCMgw0",
        "outputId": "38634641-7f3a-4a66-ed48-21a8b0f57342"
      },
      "execution_count": null,
      "outputs": [
        {
          "output_type": "stream",
          "name": "stdout",
          "text": [
            "High Achievers (Marks > 75 in all subjects):\n",
            "    Student_ID    Name     Math    Science    English\n",
            "0            1   Alice  88.0000  92.000000  85.000000\n",
            "1            2     Bob  76.0000  81.466667  79.000000\n",
            "3            4   David  90.0000  95.000000  91.000000\n",
            "5            6   Frank  82.0000  81.466667  88.000000\n",
            "6            7   Grace  77.5625  85.000000  92.000000\n",
            "8            9     Ivy  92.0000  89.000000  94.000000\n",
            "10          11    Kate  80.0000  83.000000  80.058824\n",
            "12          13     Mia  77.5625  90.000000  86.000000\n",
            "13          14    Nina  84.0000  88.000000  80.058824\n",
            "16          17   Quinn  77.0000  81.466667  80.000000\n",
            "17          18  Rachel  89.0000  91.000000  87.000000\n",
            "19          20    Tina  93.0000  81.466667  95.000000\n"
          ]
        }
      ]
    }
  ]
}